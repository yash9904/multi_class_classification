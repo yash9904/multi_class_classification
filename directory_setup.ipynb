{
 "cells": [
  {
   "cell_type": "markdown",
   "metadata": {},
   "source": [
    "### Importing relevant libraries"
   ]
  },
  {
   "cell_type": "code",
   "execution_count": 40,
   "metadata": {},
   "outputs": [],
   "source": [
    "import os\n",
    "import pandas as pd\n",
    "from shutil import copyfile\n",
    "import zipfile"
   ]
  },
  {
   "cell_type": "markdown",
   "metadata": {},
   "source": [
    "### Importing image data"
   ]
  },
  {
   "cell_type": "code",
   "execution_count": null,
   "metadata": {},
   "outputs": [],
   "source": [
    "zip_ref = zipfile.ZipFile('Data.zip', 'r')\n",
    "zip_ref.extractall()\n",
    "zip_ref.close()"
   ]
  },
  {
   "cell_type": "code",
   "execution_count": 41,
   "metadata": {},
   "outputs": [],
   "source": [
    "train_info = pd.read_csv('train_labels.csv')\n",
    "validation_info = pd.read_csv('validation_labels.csv')"
   ]
  },
  {
   "cell_type": "code",
   "execution_count": 42,
   "metadata": {},
   "outputs": [
    {
     "data": {
      "text/html": [
       "<div><div id=76621a0f-c370-43ad-b748-6c5f97539c90 style=\"display:none; background-color:#9D6CFF; color:white; width:200px; height:30px; padding-left:5px; border-radius:4px; flex-direction:row; justify-content:space-around; align-items:center;\" onmouseover=\"this.style.backgroundColor='#BA9BF8'\" onmouseout=\"this.style.backgroundColor='#9D6CFF'\" onclick=\"window.commands?.execute('create-mitosheet-from-dataframe-output');\">See Full Dataframe in Mito</div> <script> if (window.commands.hasCommand('create-mitosheet-from-dataframe-output')) document.getElementById('76621a0f-c370-43ad-b748-6c5f97539c90').style.display = 'flex' </script> <table border=\"1\" class=\"dataframe\">\n",
       "  <thead>\n",
       "    <tr style=\"text-align: right;\">\n",
       "      <th></th>\n",
       "      <th>labelId</th>\n",
       "      <th>imageId</th>\n",
       "    </tr>\n",
       "  </thead>\n",
       "  <tbody>\n",
       "    <tr>\n",
       "      <th>0</th>\n",
       "      <td>[u'95', u'66', u'137', u'70', u'20']</td>\n",
       "      <td>1</td>\n",
       "    </tr>\n",
       "    <tr>\n",
       "      <th>1</th>\n",
       "      <td>[u'36', u'66', u'44', u'214', u'105', u'133']</td>\n",
       "      <td>2</td>\n",
       "    </tr>\n",
       "    <tr>\n",
       "      <th>2</th>\n",
       "      <td>[u'170', u'66', u'97', u'153', u'105', u'138']</td>\n",
       "      <td>3</td>\n",
       "    </tr>\n",
       "    <tr>\n",
       "      <th>3</th>\n",
       "      <td>[u'18', u'66', u'44', u'153', u'164']</td>\n",
       "      <td>4</td>\n",
       "    </tr>\n",
       "    <tr>\n",
       "      <th>4</th>\n",
       "      <td>[u'189', u'66', u'176', u'137', u'153', u'74', u'181', u'171', u'138']</td>\n",
       "      <td>5</td>\n",
       "    </tr>\n",
       "  </tbody>\n",
       "</table></div>"
      ],
      "text/plain": [
       "                                             labelId  imageId\n",
       "0               [u'95', u'66', u'137', u'70', u'20']        1\n",
       "1      [u'36', u'66', u'44', u'214', u'105', u'133']        2\n",
       "2     [u'170', u'66', u'97', u'153', u'105', u'138']        3\n",
       "3              [u'18', u'66', u'44', u'153', u'164']        4\n",
       "4  [u'189', u'66', u'176', u'137', u'153', u'74',...        5"
      ]
     },
     "execution_count": 42,
     "metadata": {},
     "output_type": "execute_result"
    }
   ],
   "source": [
    "train_info.head()"
   ]
  },
  {
   "cell_type": "code",
   "execution_count": 43,
   "metadata": {},
   "outputs": [
    {
     "name": "stdout",
     "output_type": "stream",
     "text": [
      "<class 'pandas.core.frame.DataFrame'>\n",
      "RangeIndex: 15000 entries, 0 to 14999\n",
      "Data columns (total 2 columns):\n",
      " #   Column   Non-Null Count  Dtype \n",
      "---  ------   --------------  ----- \n",
      " 0   labelId  15000 non-null  object\n",
      " 1   imageId  15000 non-null  int64 \n",
      "dtypes: int64(1), object(1)\n",
      "memory usage: 234.5+ KB\n"
     ]
    }
   ],
   "source": [
    "train_info.info()"
   ]
  },
  {
   "cell_type": "code",
   "execution_count": 44,
   "metadata": {},
   "outputs": [
    {
     "data": {
      "text/html": [
       "<div><div id=78ba662f-44ed-4ea8-b1a5-7cfd2c803a09 style=\"display:none; background-color:#9D6CFF; color:white; width:200px; height:30px; padding-left:5px; border-radius:4px; flex-direction:row; justify-content:space-around; align-items:center;\" onmouseover=\"this.style.backgroundColor='#BA9BF8'\" onmouseout=\"this.style.backgroundColor='#9D6CFF'\" onclick=\"window.commands?.execute('create-mitosheet-from-dataframe-output');\">See Full Dataframe in Mito</div> <script> if (window.commands.hasCommand('create-mitosheet-from-dataframe-output')) document.getElementById('78ba662f-44ed-4ea8-b1a5-7cfd2c803a09').style.display = 'flex' </script> <table border=\"1\" class=\"dataframe\">\n",
       "  <thead>\n",
       "    <tr style=\"text-align: right;\">\n",
       "      <th></th>\n",
       "      <th>labels</th>\n",
       "      <th>imageId</th>\n",
       "    </tr>\n",
       "  </thead>\n",
       "  <tbody>\n",
       "    <tr>\n",
       "      <th>0</th>\n",
       "      <td>[u'62', u'17', u'66', u'214', u'105', u'137', u'85']</td>\n",
       "      <td>1</td>\n",
       "    </tr>\n",
       "    <tr>\n",
       "      <th>1</th>\n",
       "      <td>[u'95', u'17', u'66', u'214', u'164', u'137', u'20', u'204', u'184']</td>\n",
       "      <td>2</td>\n",
       "    </tr>\n",
       "    <tr>\n",
       "      <th>2</th>\n",
       "      <td>[u'122', u'19', u'66', u'186', u'180', u'44', u'154', u'20']</td>\n",
       "      <td>3</td>\n",
       "    </tr>\n",
       "    <tr>\n",
       "      <th>3</th>\n",
       "      <td>[u'190', u'222', u'66', u'153', u'164', u'226', u'53', u'184']</td>\n",
       "      <td>4</td>\n",
       "    </tr>\n",
       "    <tr>\n",
       "      <th>4</th>\n",
       "      <td>[u'62', u'66', u'153', u'171', u'111', u'137', u'70', u'204', u'184']</td>\n",
       "      <td>5</td>\n",
       "    </tr>\n",
       "  </tbody>\n",
       "</table></div>"
      ],
      "text/plain": [
       "                                              labels  imageId\n",
       "0  [u'62', u'17', u'66', u'214', u'105', u'137', ...        1\n",
       "1  [u'95', u'17', u'66', u'214', u'164', u'137', ...        2\n",
       "2  [u'122', u'19', u'66', u'186', u'180', u'44', ...        3\n",
       "3  [u'190', u'222', u'66', u'153', u'164', u'226'...        4\n",
       "4  [u'62', u'66', u'153', u'171', u'111', u'137',...        5"
      ]
     },
     "execution_count": 44,
     "metadata": {},
     "output_type": "execute_result"
    }
   ],
   "source": [
    "validation_info.head()"
   ]
  },
  {
   "cell_type": "markdown",
   "metadata": {},
   "source": [
    "### Extracting class names and generating class folders"
   ]
  },
  {
   "cell_type": "code",
   "execution_count": 45,
   "metadata": {},
   "outputs": [],
   "source": [
    "train_labels = {key:value for (key, value) in zip(train_info['labelId'], train_info['imageId'])}"
   ]
  },
  {
   "cell_type": "code",
   "execution_count": 46,
   "metadata": {},
   "outputs": [
    {
     "data": {
      "text/plain": [
       "[\"[u'95', u'66', u'137', u'70', u'20']\",\n",
       " \"[u'36', u'66', u'44', u'214', u'105', u'133']\",\n",
       " \"[u'170', u'66', u'97', u'153', u'105', u'138']\",\n",
       " \"[u'18', u'66', u'44', u'153', u'164']\",\n",
       " \"[u'189', u'66', u'176', u'137', u'153', u'74', u'181', u'171', u'138']\"]"
      ]
     },
     "execution_count": 46,
     "metadata": {},
     "output_type": "execute_result"
    }
   ],
   "source": [
    "list(train_labels.keys())[:5]"
   ]
  },
  {
   "cell_type": "code",
   "execution_count": 47,
   "metadata": {},
   "outputs": [],
   "source": [
    "class_labels = [value.rstrip(']').lstrip('[').split(', ') for value in train_labels.keys()]"
   ]
  },
  {
   "cell_type": "code",
   "execution_count": 48,
   "metadata": {},
   "outputs": [],
   "source": [
    "train_labels_temp = []\n",
    "for i in range(len(class_labels)):\n",
    "    for j in range(len(class_labels[i])):\n",
    "        if class_labels[i][j] not in train_labels_temp:\n",
    "            train_labels_temp.append(class_labels[i][j])"
   ]
  },
  {
   "cell_type": "code",
   "execution_count": 49,
   "metadata": {},
   "outputs": [],
   "source": [
    "class_labels = list(set(train_labels_temp))"
   ]
  },
  {
   "cell_type": "code",
   "execution_count": 50,
   "metadata": {},
   "outputs": [],
   "source": [
    "imgdir = 'image_data'\n",
    "training_dir = 'image_data\\\\training'\n",
    "validation_dir = 'image_data\\\\validation'"
   ]
  },
  {
   "cell_type": "code",
   "execution_count": 51,
   "metadata": {},
   "outputs": [],
   "source": [
    "os.mkdir(imgdir)\n",
    "os.mkdir(training_dir)\n",
    "os.mkdir(validation_dir)"
   ]
  },
  {
   "cell_type": "code",
   "execution_count": 52,
   "metadata": {},
   "outputs": [],
   "source": [
    "def class_folder(dir):\n",
    "    for cl in class_labels:\n",
    "        os.mkdir(dir + '\\\\' + cl)\n",
    "\n",
    "class_folder(training_dir)\n",
    "class_folder(validation_dir)"
   ]
  },
  {
   "cell_type": "markdown",
   "metadata": {},
   "source": [
    "### Copying training and validation images to their respective folders"
   ]
  },
  {
   "cell_type": "code",
   "execution_count": 53,
   "metadata": {},
   "outputs": [],
   "source": [
    "image_labels_train = {key:value for (key, value) in zip(train_info['imageId'], train_info['labelId'])}\n",
    "image_labels_validation = {key:value for (key, value) in zip(validation_info['imageId'], validation_info['labels'])}"
   ]
  },
  {
   "cell_type": "code",
   "execution_count": 54,
   "metadata": {},
   "outputs": [],
   "source": [
    "for key in image_labels_train.keys():\n",
    "    temp = image_labels_train[key].rstrip(']').lstrip('[').split(', ')\n",
    "    image_labels_train[key] = temp\n",
    "\n",
    "for key in image_labels_validation.keys():\n",
    "    temp = image_labels_validation[key].rstrip(']').lstrip('[').split(', ')\n",
    "    image_labels_validation[key] = temp"
   ]
  },
  {
   "cell_type": "code",
   "execution_count": 55,
   "metadata": {},
   "outputs": [],
   "source": [
    "def copy_img(source_dir, destination, image_labels):\n",
    "    for key in image_labels.keys():\n",
    "        for cl_dir in image_labels[key]:\n",
    "            try:\n",
    "                source_file = source_dir + '\\\\' + str(key) + '.jpg'\n",
    "                copyfile(source_file, destination + '\\\\' + cl_dir + '\\\\' + str(key) + '.jpg')\n",
    "            except FileNotFoundError:\n",
    "                print(key + '.jpg not found in ' + source_dir)\n",
    "                break"
   ]
  },
  {
   "cell_type": "code",
   "execution_count": null,
   "metadata": {},
   "outputs": [],
   "source": [
    "copy_img('Data\\\\Data\\\\train', training_dir, image_labels_train)\n",
    "copy_img('Data\\\\Data\\\\validation', validation_dir, image_labels_validation)"
   ]
  },
  {
   "cell_type": "markdown",
   "metadata": {},
   "source": [
    "<c><FONT COLOR=\"RED\">Some of the images are missing in the data.</c>"
   ]
  }
 ],
 "metadata": {
  "interpreter": {
   "hash": "2c7ad05679e7c6c7e25ba2d90723ebb5bb281d5cafa788ab75a6f95914fbc44a"
  },
  "kernelspec": {
   "display_name": "Python 3.9.7 64-bit ('analysis': conda)",
   "language": "python",
   "name": "python3"
  },
  "language_info": {
   "codemirror_mode": {
    "name": "ipython",
    "version": 3
   },
   "file_extension": ".py",
   "mimetype": "text/x-python",
   "name": "python",
   "nbconvert_exporter": "python",
   "pygments_lexer": "ipython3",
   "version": "3.9.7"
  },
  "orig_nbformat": 4
 },
 "nbformat": 4,
 "nbformat_minor": 2
}
